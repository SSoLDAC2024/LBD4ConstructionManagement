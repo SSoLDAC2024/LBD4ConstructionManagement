{
 "cells": [
  {
   "cell_type": "markdown",
   "id": "85291ca6",
   "metadata": {},
   "source": [
    "# Linked Data and Ontologies for Construction Management\n"
   ]
  },
  {
   "cell_type": "markdown",
   "id": "2fef421f",
   "metadata": {},
   "source": [
    "We will be using [Csite ontology](https://www.sciencedirect.com/science/article/pii/S0926580523004843) to demonstrate how linked data helps construction management. You can cite csite ontology as below if you need to use it in your work.\n",
    "\n",
    ">Farghaly, Karim, Ranjith Soman, and Jennifer Whyte. \"cSite ontology for production control of construction sites.\" Automation in Construction 158 (2024): 105224."
   ]
  },
  {
   "cell_type": "markdown",
   "id": "5d04dcb0",
   "metadata": {},
   "source": [
    "## Import necessary libraries\n"
   ]
  },
  {
   "cell_type": "markdown",
   "id": "3540b32a",
   "metadata": {},
   "source": [
    "**pandas** is a fast, powerful, flexible and easy to use open source data analysis and manipulation tool, built on top of the Python programming language.pandas can be installed via pip from PyPI.\n",
    "\n",
    "`pip install pandas`\n",
    "\n",
    "RDFLib is open source and is maintained in a GitHub repository. RDFLib releases, current and previous, are listed on PyPi\n",
    "\n",
    "The best way to install RDFLib is to use pip (sudo as required):\n",
    "\n",
    "`pip install rdflib`\n",
    "If you want the latest code to run, clone the main branch of the GitHub repo and use that or you can pip install directly from GitHub:\n",
    "\n",
    "`pip install git+https://github.com/RDFLib/rdflib.git@main#egg=rdflib`"
   ]
  },
  {
   "cell_type": "code",
   "execution_count": 1,
   "id": "d9287985",
   "metadata": {},
   "outputs": [],
   "source": [
    "import rdflib\n",
    "import owlrl\n",
    "import pandas as pd"
   ]
  },
  {
   "cell_type": "markdown",
   "id": "2fddb3aa",
   "metadata": {},
   "source": [
    "## Define functions to load ttl file and perform SPARQL query"
   ]
  },
  {
   "cell_type": "markdown",
   "id": "f9e52cfa",
   "metadata": {},
   "source": [
    "Define the function to load a Turtle file into an RDF graph"
   ]
  },
  {
   "cell_type": "code",
   "execution_count": 2,
   "id": "664cb3a6",
   "metadata": {},
   "outputs": [],
   "source": [
    "def load_ttl_file(file_path):\n",
    "    graph = rdflib.Graph()\n",
    "    graph.parse(file_path, format=\"ttl\")\n",
    "    return graph"
   ]
  },
  {
   "cell_type": "markdown",
   "id": "d208b9bb",
   "metadata": {},
   "source": [
    "Define the function to perform a SPARQL query"
   ]
  },
  {
   "cell_type": "code",
   "execution_count": 7,
   "id": "d8e4fe69",
   "metadata": {},
   "outputs": [],
   "source": [
    "def perform_sparql_query(graph, query):\n",
    "    \"\"\" Perform a SPARQL query on the RDFLib graph. \"\"\"\n",
    "    return graph.query(query)\n",
    "\n",
    "def display_query_results(results):\n",
    "    \"\"\" Display SPARQL query results as a pandas DataFrame. \"\"\"\n",
    "    # Transform the results into a list of dictionaries\n",
    "    uri_to_remove = \"http://www.owl-ontologies.com/\"\n",
    "    \n",
    "    # Transform the results into a list of dictionaries, removing the specified URI part\n",
    "    data = []\n",
    "    for row in results:\n",
    "        row_dict = {}\n",
    "        for field in results.vars:\n",
    "            value = str(row[field])\n",
    "            # Remove the unwanted URI part if it's present\n",
    "            if value.startswith(uri_to_remove):\n",
    "                value = value[len(uri_to_remove):]\n",
    "            row_dict[str(field)] = value\n",
    "        data.append(row_dict)\n",
    "    \n",
    "    # Create and display a DataFrame\n",
    "    return pd.DataFrame(data)"
   ]
  },
  {
   "cell_type": "markdown",
   "id": "2fed67f7",
   "metadata": {},
   "source": [
    "## Load the turtle file"
   ]
  },
  {
   "cell_type": "code",
   "execution_count": 8,
   "id": "44be2f19",
   "metadata": {},
   "outputs": [],
   "source": [
    "ttl_file = \"ProjectGrpah.ttl\"  # Change this to your Turtle file path\n",
    "graph = load_ttl_file(ttl_file)\n"
   ]
  },
  {
   "cell_type": "markdown",
   "id": "ee653dc3",
   "metadata": {},
   "source": [
    "## Define SPARQL query and return the outputs"
   ]
  },
  {
   "cell_type": "markdown",
   "id": "216e6f6d",
   "metadata": {},
   "source": [
    "### Query 1 :Identifying deliverables per floor"
   ]
  },
  {
   "cell_type": "markdown",
   "id": "6f760335",
   "metadata": {},
   "source": [
    "The first query is about tracking the number of deliverables (activities to be delivered)per floor in a weekplan. This helps the project managers to understand the plans and remove workspace conflicts. It also helps the clustering of work to be distributed to different package managers.  For this, the query first looks at each week’s plan and then identify the activities and their location and then groups it by storey."
   ]
  },
  {
   "cell_type": "code",
   "execution_count": 10,
   "id": "1d86e820",
   "metadata": {},
   "outputs": [
    {
     "name": "stdout",
     "output_type": "stream",
     "text": [
      "       storey                 activity activityversion\n",
      "0   cSite#001  cSite#3450-QSO-001-0001               1\n",
      "1   cSite#002  cSite#3450-QSO-002-0001               1\n",
      "2   cSite#006  cSite#3800-QSO-006-0007               1\n",
      "3   cSite#006  cSite#3800-QSO-006-PS01               1\n",
      "4   cSite#006  cSite#3800-QSO-006-PSGF               1\n",
      "5   cSite#005  cSite#4255-QHP-005-MB28               1\n",
      "6   cSite#001  cSite#4255-QSO-001-B228               1\n",
      "7   cSite#002  cSite#4255-QSO-002-0020               1\n",
      "8   cSite#003  cSite#4255-QSO-003-0022               1\n",
      "9   cSite#003  cSite#4255-QSO-003-0024               1\n",
      "10  cSite#001  cSite#4300-QSO-001-1401               1\n",
      "11  cSite#001  cSite#4446-QSO-001-0076               1\n",
      "12  cSite#001  cSite#4446-QSO-001-0077               1\n",
      "13  cSite#001  cSite#4446-QSO-001-0078               1\n",
      "14  cSite#001  cSite#4446-QSO-001-0079               1\n",
      "15  cSite#001  cSite#4446-QSO-001-0080               1\n",
      "16  cSite#002  cSite#4446-QSO-002-0473               1\n",
      "17  cSite#002  cSite#4446-QSO-002-0474               1\n",
      "18  cSite#002  cSite#4446-QSO-002-0475               1\n",
      "19  cSite#002  cSite#4446-QSO-002-0476               1\n",
      "20  cSite#002  cSite#4446-QSO-002-0478               1\n",
      "21  cSite#002  cSite#4446-QSO-002-0479               1\n",
      "22  cSite#002  cSite#5500-QSO-002-0001               1\n",
      "23  cSite#002  cSite#5500-QSO-002-0002               1\n",
      "24  cSite#002  cSite#5500-QSO-002-0003               1\n",
      "25  cSite#002  cSite#5500-QSO-002-0004               1\n",
      "26  cSite#003  cSite#6000-QSO-003-0227               1\n",
      "27  cSite#003  cSite#6100-QSO-003-0059               1\n",
      "28  cSite#003  cSite#6100-QSO-003-0062               1\n",
      "29  cSite#003  cSite#6100-QSO-003-0070               1\n",
      "30  cSite#003  cSite#6100-QSO-003-0073               1\n",
      "31  cSite#003  cSite#6100-QSO-003-0106               1\n",
      "32  cSite#003  cSite#6200-QSO-003-0091               1\n",
      "33  cSite#003  cSite#6300-QSO-003-0071               1\n",
      "34  cSite#003  cSite#6300-QSO-003-0072               1\n",
      "35  cSite#003  cSite#6500-QSO-003-0068               1\n",
      "36  cSite#003  cSite#6700-QSO-003-0052               1\n",
      "37  cSite#003  cSite#6700-QSO-003-0074               1\n",
      "38  cSite#003  cSite#6700-QSO-003-0195               1\n",
      "39  cSite#003  cSite#7000-QSO-003-0064               1\n",
      "40  cSite#003  cSite#7000-QSO-003-0086               1\n",
      "41  cSite#003  cSite#7000-QSO-003-0087               1\n",
      "42  cSite#003  cSite#7050-QSO-003-0055               1\n",
      "43  cSite#003  cSite#7500-QSO-003-0056               1\n"
     ]
    }
   ],
   "source": [
    "# Define a SPARQL query\n",
    "\n",
    "\n",
    "\n",
    "query = \"\"\"\n",
    "PREFIX cSite: <http://www.owl-ontologies.com/cSite#>\n",
    "PREFIX bot: <http://www.owl-ontologies.com/bot#>\n",
    "\n",
    "\n",
    "\n",
    "SELECT ?storey ?activity ?activityversion\n",
    "WHERE {\n",
    "  ?activity cSite:hasZone ?space.\n",
    "  ?space bot:hasStorey ?storey.\n",
    "  ?activity cSite:PlannedVersion ?activityversion.\n",
    "  ?activity cSite:discussedIn cSite:THISWEEK-WeeklyPMUpdate220401.xlsx.\n",
    "}\n",
    "GROUP BY ?storey ?activity\n",
    "\"\"\"\n",
    "\n",
    "\n",
    "results = perform_sparql_query(graph, query)\n",
    "\n",
    "# Display results\n",
    "df = display_query_results(results)\n",
    "print(df)"
   ]
  },
  {
   "cell_type": "markdown",
   "id": "e7c011b3",
   "metadata": {},
   "source": [
    "### Query 2: Tracking the deliverables per floor"
   ]
  },
  {
   "cell_type": "markdown",
   "id": "28bf2524",
   "metadata": {},
   "source": [
    "The second query is about tracking the number of deliverables that has been completed in the last 6 weeks. This helps the project manager to understand the flow of work and plan the further activities. For this, the query first looks for all the activities in the last 6 weeks and infers where the activity occurred and then checks for the completion status. All the completed activities are then grouped by storey. "
   ]
  },
  {
   "cell_type": "code",
   "execution_count": 12,
   "id": "bbe4b44c",
   "metadata": {},
   "outputs": [
    {
     "name": "stdout",
     "output_type": "stream",
     "text": [
      "       storey                                  weekplan count\n",
      "0   cSite#001  cSite#THISWEEK-WeeklyPMUpdate220408.xlsx     1\n",
      "1   cSite#001  cSite#THISWEEK-WeeklyPMUpdate220506.xlsx     6\n",
      "2   cSite#001  cSite#THISWEEK-WeeklyPMUpdate220527.xlsx    30\n",
      "3   cSite#001  cSite#THISWEEK-WeeklyPMUpdate220415.xlsx     6\n",
      "4   cSite#002  cSite#THISWEEK-WeeklyPMUpdate220429.xlsx    10\n",
      "5   cSite#002  cSite#THISWEEK-WeeklyPMUpdate220408.xlsx     7\n",
      "6   cSite#002  cSite#THISWEEK-WeeklyPMUpdate220506.xlsx    14\n",
      "7   cSite#002  cSite#THISWEEK-WeeklyPMUpdate220527.xlsx     4\n",
      "8   cSite#002  cSite#THISWEEK-WeeklyPMUpdate220415.xlsx     9\n",
      "9   cSite#002  cSite#THISWEEK-WeeklyPMUpdate220422.xlsx     4\n",
      "10  cSite#003  cSite#THISWEEK-WeeklyPMUpdate220506.xlsx     2\n",
      "11  cSite#020  cSite#THISWEEK-WeeklyPMUpdate220429.xlsx     1\n"
     ]
    }
   ],
   "source": [
    "# Define a SPARQL query\n",
    "\n",
    "\n",
    "\n",
    "query = \"\"\"\n",
    "PREFIX cSite: <http://www.owl-ontologies.com/cSite#>\n",
    "PREFIX bot: <http://www.owl-ontologies.com/bot#>\n",
    "PREFIX xsd: <http://www.w3.org/2001/XMLSchema#>\n",
    "\n",
    "SELECT ?storey ?weekplan (COUNT(?activity) AS ?count) WHERE {\n",
    "  ?weekplan cSite:CoversFrom ?date.\n",
    "  ?activity cSite:discussedIn ?weekplan;\n",
    "    cSite:hasZone ?space.\n",
    "  ?space bot:hasStorey ?storey.\n",
    "  ?activity cSite:StatusCompleted ?status.\n",
    "  #BIND((NOW()) - \"P0Y6M28DT0M0S\"^^xsd:yearMonthDuration AS ?sixweeksago)\n",
    "  BIND(\"2022-04-01\"^^xsd:date AS ?sixweeksago)\n",
    "  FILTER(?date > ?sixweeksago)\n",
    "  FILTER(?status = \"Yes\"^^xsd:string)\n",
    "}\n",
    "GROUP BY ?storey ?weekplan\n",
    "ORDER BY (?storey)\n",
    "\n",
    "\"\"\"\n",
    "\n",
    "\n",
    "results = perform_sparql_query(graph, query)\n",
    "\n",
    "# Display results\n",
    "df = display_query_results(results)\n",
    "print(df)"
   ]
  },
  {
   "cell_type": "markdown",
   "id": "f61b3b53",
   "metadata": {},
   "source": [
    "### Query 3: Identifying subcontractor productivities\n",
    "For effectively managing the workflow and ensure continuous flow of work, it is imperative to know the bottlenecks in the construction. Subcontractor productivity is a major factor contributing to this. Therefore, the third query is identifying the low performing subcontractors in each storey.  For calculating this, the query first looks for all the activities planned for the last six weeks and then identify subcontractor responsible for the same. Then it looks at the completion status for each activity and then groups the results by subcontractor and storey. "
   ]
  },
  {
   "cell_type": "code",
   "execution_count": 13,
   "id": "ce2e9410",
   "metadata": {},
   "outputs": [
    {
     "name": "stdout",
     "output_type": "stream",
     "text": [
      "      storey             org      Completion_Rate\n",
      "0  cSite#001  cSite#CompanyL  0.45454545454545453\n",
      "1  cSite#001  cSite#CompanyO    0.972972972972973\n",
      "2  cSite#001  cSite#CompanyC                  1.0\n",
      "3  cSite#002  cSite#CompanyL                  0.5\n",
      "4  cSite#002  cSite#CompanyO   0.5974025974025974\n",
      "5  cSite#003  cSite#CompanyM   0.2857142857142857\n",
      "6  cSite#020  cSite#CompanyI                  1.0\n"
     ]
    }
   ],
   "source": [
    "# Define a SPARQL query\n",
    "\n",
    "\n",
    "\n",
    "query = \"\"\"\n",
    "PREFIX xsd: <http://www.w3.org/2001/XMLSchema#>\n",
    "PREFIX cSite: <http://www.owl-ontologies.com/cSite#>\n",
    "PREFIX bot: <http://www.owl-ontologies.com/bot#>\n",
    "SELECT ?storey ?org ((xsd:float(COUNT(DISTINCT ?activityC))) / (xsd:float(COUNT(DISTINCT ?activity))) AS ?Completion_Rate) WHERE {\n",
    "  ?weekplan cSite:CoversFrom ?date.\n",
    "  ?activityC cSite:discussedIn ?weekplan;\n",
    "  \tcSite:StatusCompleted ?status;\n",
    "    cSite:hasOrganization ?org;\n",
    "    cSite:hasZone ?space1.\n",
    "  ?activity cSite:discussedIn ?weekplan.\n",
    "  ?activity\n",
    "        cSite:StatusCompleted ?status1;\n",
    "        cSite:hasOrganization ?org;\n",
    "        cSite:hasZone ?space.\n",
    "  ?space bot:hasStorey ?storey.\n",
    "  ?space1 bot:hasStorey ?storey.\n",
    "  #BIND((NOW()) - \"P0Y6M28DT0M0S\"^^xsd:yearMonthDuration AS ?sixweeksago)\n",
    "  BIND(\"2022-04-01\"^^xsd:date AS ?sixweeksago)\n",
    "  FILTER(?date > ?sixweeksago)\n",
    "  FILTER(?status = \"Yes\"^^xsd:string)\n",
    "}\n",
    "GROUP BY ?storey ?org\n",
    "ORDER BY (?storey) (?Completion_Rate)\n",
    "\n",
    "\"\"\"\n",
    "\n",
    "\n",
    "results = perform_sparql_query(graph, query)\n",
    "\n",
    "# Display results\n",
    "df = display_query_results(results)\n",
    "print(df)"
   ]
  },
  {
   "cell_type": "markdown",
   "id": "16d67617",
   "metadata": {},
   "source": [
    "### Query 4 : Identifying locations with least productivity\n",
    "\n",
    "Besides determining subcontractor productivity, it is essential to consider location-based productivity as well. This is because certain locations may have inefficient logistics and working plans, which can contribute to lower overall productivity. Assessing location-based productivity provides valuable insights that cannot be solely obtained from subcontractor productivity analysis. The query algorithm begins by examining all activities conducted within the past six weeks. It then evaluates the specific spaces in which these activities took place. Finally, it checks the completion status of each activity to calculate the completion rate. By analysing this information, areas or floors with lower productivity can be pinpointed and assessed for potential issues in logistics or working plans. This enables stakeholders to address these concerns and take appropriate measures to improve overall productivity in those specific locations."
   ]
  },
  {
   "cell_type": "code",
   "execution_count": 14,
   "id": "856a4aa7",
   "metadata": {},
   "outputs": [
    {
     "name": "stdout",
     "output_type": "stream",
     "text": [
      "      storey     Completion_Rate\n",
      "0  cSite#003  0.2857142857142857\n",
      "1  cSite#002  0.5949367088607594\n",
      "2  cSite#001                0.86\n",
      "3  cSite#020                 1.0\n"
     ]
    }
   ],
   "source": [
    "# Define a SPARQL query\n",
    "\n",
    "\n",
    "\n",
    "query = \"\"\"\n",
    "PREFIX xsd: <http://www.w3.org/2001/XMLSchema#>\n",
    "PREFIX cSite: <http://www.owl-ontologies.com/cSite#>\n",
    "PREFIX bot: <http://www.owl-ontologies.com/bot#>\n",
    "\n",
    "SELECT ?storey ((xsd:float(COUNT(DISTINCT ?activityC))) / (xsd:float(COUNT(DISTINCT ?activity))) AS ?Completion_Rate) WHERE {\n",
    "  ?weekplan cSite:CoversFrom ?date.\n",
    "  ?activityC cSite:discussedIn ?weekplan.\n",
    "  ?activityC cSite:StatusCompleted ?status.\n",
    "  ?activityC cSite:hasOrganization ?org;\n",
    "    cSite:hasZone ?space1.\n",
    "  ?activity cSite:discussedIn ?weekplan.\n",
    "  ?activity cSite:StatusCompleted ?status1.\n",
    "  ?activity cSite:hasOrganization ?org;\n",
    "    cSite:hasZone ?space.\n",
    "  ?space bot:hasStorey ?storey.\n",
    "  ?space1 bot:hasStorey ?storey.\n",
    "    #BIND((NOW()) - \"P0Y6M28DT0M0S\"^^xsd:yearMonthDuration AS ?sixweeksago)\n",
    "  BIND(\"2022-04-01\"^^xsd:date AS ?sixweeksago)\n",
    "  FILTER(?date > ?sixweeksago)\n",
    "  FILTER(?status = \"Yes\"^^xsd:string)\n",
    "}\n",
    "GROUP BY ?storey\n",
    "ORDER BY (?Completion_Rate) (?storey)\n",
    "\n",
    "\"\"\"\n",
    "\n",
    "\n",
    "results = perform_sparql_query(graph, query)\n",
    "\n",
    "# Display results\n",
    "df = display_query_results(results)\n",
    "print(df)"
   ]
  },
  {
   "cell_type": "markdown",
   "id": "91fb9b4f",
   "metadata": {},
   "source": [
    "### Query 5 : Identifying subcontractor completion rates\n",
    "\n",
    "In addition to obtaining subcontractor productivities per floor, it is equally crucial to determine the overall completion rate of subcontractors. This information plays a vital role in identifying underperforming subcontractors and taking necessary corrective actions. Listing 5 presents a query specifically designed to calculate the completion rate of various subcontractors on a weekly basis. The query algorithm retrieves all activities performed within the last six weeks and identifies the responsible subcontractor for each activity. Subsequently, it checks whether each activity has been completed and aggregates the data on a weekly basis for each subcontractor. TThis data aids in the identification of subcontractors with lower performance and assists in implementing appropriate measures to rectify any issues."
   ]
  },
  {
   "cell_type": "code",
   "execution_count": 15,
   "id": "f1fdeafd",
   "metadata": {},
   "outputs": [
    {
     "name": "stdout",
     "output_type": "stream",
     "text": [
      "                                    weekplan             org  \\\n",
      "0   cSite#THISWEEK-WeeklyPMUpdate220408.xlsx  cSite#CompanyC   \n",
      "1   cSite#THISWEEK-WeeklyPMUpdate220408.xlsx  cSite#CompanyO   \n",
      "2   cSite#THISWEEK-WeeklyPMUpdate220415.xlsx  cSite#CompanyC   \n",
      "3   cSite#THISWEEK-WeeklyPMUpdate220415.xlsx  cSite#CompanyO   \n",
      "4   cSite#THISWEEK-WeeklyPMUpdate220415.xlsx  cSite#CompanyL   \n",
      "5   cSite#THISWEEK-WeeklyPMUpdate220422.xlsx  cSite#CompanyO   \n",
      "6   cSite#THISWEEK-WeeklyPMUpdate220429.xlsx  cSite#CompanyI   \n",
      "7   cSite#THISWEEK-WeeklyPMUpdate220429.xlsx  cSite#CompanyO   \n",
      "8   cSite#THISWEEK-WeeklyPMUpdate220506.xlsx  cSite#CompanyO   \n",
      "9   cSite#THISWEEK-WeeklyPMUpdate220506.xlsx  cSite#CompanyL   \n",
      "10  cSite#THISWEEK-WeeklyPMUpdate220506.xlsx  cSite#CompanyM   \n",
      "11  cSite#THISWEEK-WeeklyPMUpdate220527.xlsx  cSite#CompanyO   \n",
      "\n",
      "   N_completed_activities N_activities     Completion_Rate  \n",
      "0                       1            1                 1.0  \n",
      "1                       7            7                 1.0  \n",
      "2                       1            1                 1.0  \n",
      "3                       9            9                 1.0  \n",
      "4                       5           19  0.2631578947368421  \n",
      "5                       4           14  0.2857142857142857  \n",
      "6                       1            1                 1.0  \n",
      "7                      10           19  0.5263157894736842  \n",
      "8                      19           20                0.95  \n",
      "9                       1            2                 0.5  \n",
      "10                      2            7  0.2857142857142857  \n",
      "11                     34           52  0.6538461538461539  \n"
     ]
    }
   ],
   "source": [
    "# Define a SPARQL query\n",
    "\n",
    "\n",
    "\n",
    "query = \"\"\"\n",
    "PREFIX xsd: <http://www.w3.org/2001/XMLSchema#>\n",
    "PREFIX cSite: <http://www.owl-ontologies.com/cSite#>\n",
    "SELECT ?weekplan ?org (COUNT(DISTINCT ?activityC) AS ?N_completed_activities) (COUNT(DISTINCT ?activity) AS ?N_activities) ((xsd:float(COUNT(DISTINCT ?activityC))) / (xsd:float(COUNT(DISTINCT ?activity))) AS ?Completion_Rate) WHERE {\n",
    "  ?weekplan cSite:CoversFrom ?date.\n",
    "  ?activityC cSite:discussedIn ?weekplan.\n",
    "  ?activityC cSite:StatusCompleted ?status.\n",
    "  ?activityC cSite:hasOrganization ?org.\n",
    "  ?activity cSite:discussedIn ?weekplan.\n",
    "  ?activity cSite:StatusCompleted ?status1.\n",
    "  ?activity cSite:hasOrganization ?org.\n",
    "   #BIND((NOW()) - \"P0Y6M28DT0M0S\"^^xsd:yearMonthDuration AS ?sixweeksago)\n",
    "  BIND(\"2022-04-01\"^^xsd:date AS ?sixweeksago)\n",
    "  FILTER(?date > ?sixweeksago)\n",
    "  FILTER(?status = \"Yes\"^^xsd:string)\n",
    "}\n",
    "GROUP BY ?weekplan ?org\n",
    "ORDER BY (?weekplan) DESC (?Completion_Rate)\n",
    "\n",
    "\n",
    "\"\"\"\n",
    "\n",
    "\n",
    "results = perform_sparql_query(graph, query)\n",
    "\n",
    "# Display results\n",
    "df = display_query_results(results)\n",
    "print(df)"
   ]
  },
  {
   "cell_type": "markdown",
   "id": "4ab9c937",
   "metadata": {},
   "source": [
    "### Query 6 Identifying reasons for non-completions\n",
    "\n",
    "Although identifying the completion rate can help identify the subcontractor productivity. For making the best rectifying action, it is also necessary to identify the reasons for non-completion. The query first identifies the activities which are not completed in the last 6 weeks and associates the organisation with these activities and the calculates which has the highest no of non-completions. Then it looks for the reasons for the non-completion and counts them. "
   ]
  },
  {
   "cell_type": "code",
   "execution_count": 16,
   "id": "c5c64c3b",
   "metadata": {},
   "outputs": [
    {
     "name": "stdout",
     "output_type": "stream",
     "text": [
      "              org                                       reason reasoncount\n",
      "0  cSite#CompanyM                           Activity Durations          64\n",
      "1  cSite#CompanyM     Coordination of Trades at the Work Front          45\n",
      "2  cSite#CompanyL                 Labour Resource Availability          30\n",
      "3  cSite#CompanyM                         Access and Logistics          22\n",
      "4  cSite#CompanyO                           Activity Durations          18\n",
      "5  cSite#CompanyK                 Labour Resource Availability          18\n",
      "6  cSite#CompanyL                           Activity Durations          14\n",
      "7  cSite#CompanyO  Subcontractor & Supplier design Information          12\n",
      "8  cSite#CompanyL                             Outanding Design          11\n",
      "9  cSite#CompanyM                           Construction Logic          10\n"
     ]
    }
   ],
   "source": [
    "# Define a SPARQL query\n",
    "\n",
    "\n",
    "\n",
    "query = \"\"\"\n",
    "PREFIX cSite: <http://www.owl-ontologies.com/cSite#>\n",
    "PREFIX xsd: <http://www.w3.org/2001/XMLSchema#>\n",
    "SELECT ?org ?reason (COUNT(?reason) AS ?reasoncount) WHERE {\n",
    "  ?activity cSite:hasOrganization ?org.\n",
    "  ?activity cSite:discussedIn ?weekplan.\n",
    "  \n",
    "  ?activity cSite:ReasonForDelay ?reason.\n",
    "  {\n",
    "    SELECT ?org (COUNT(?activity) AS ?count) WHERE {\n",
    "      ?weekplan cSite:CoversFrom ?date.\n",
    "      ?activity cSite:StatusCompleted ?status.\n",
    "      ?activity cSite:hasOrganization ?org.\n",
    "      #BIND((NOW()) - \"P0Y6M28DT0M0S\"^^xsd:yearMonthDuration AS ?sixweeksago)\n",
    "  \t  BIND(\"2022-04-01\"^^xsd:date AS ?sixweeksago)\n",
    "      FILTER(?date > ?sixweeksago)\n",
    "      FILTER(?status = \"No\"^^xsd:string)\n",
    "    }\n",
    "    GROUP BY ?org\n",
    "    ORDER BY DESC (?count)\n",
    "    LIMIT 10\n",
    "  }\n",
    "}\n",
    "GROUP BY ?org ?reason\n",
    "ORDER BY DESC (?reasoncount)\n",
    "LIMIT 10\n",
    "\n",
    "\n",
    "\"\"\"\n",
    "\n",
    "\n",
    "results = perform_sparql_query(graph, query)\n",
    "\n",
    "# Display results\n",
    "df = display_query_results(results)\n",
    "print(df)"
   ]
  },
  {
   "cell_type": "markdown",
   "id": "ee40f27c",
   "metadata": {},
   "source": [
    "### Query 7 Identifying activity that has been replanned the most, the reason and who is most affected\n",
    "\n",
    "Frequent replanning of certain activities is a significant aspect that warrants investigation. Understanding the reasons behind these replans, as well as identifying the organizations involved and affected, is crucial. The query examines the number of times each activity has been replanned, investigates the reasons behind the replanning, identifies the responsible organization for non-completion, and determines the organization most impacted by these replans. The resulting output will provide valuable insights into the replanning dynamics and their organizational implications."
   ]
  },
  {
   "cell_type": "code",
   "execution_count": 18,
   "id": "e441a7b3",
   "metadata": {},
   "outputs": [
    {
     "data": {
      "text/html": [
       "<div>\n",
       "<style scoped>\n",
       "    .dataframe tbody tr th:only-of-type {\n",
       "        vertical-align: middle;\n",
       "    }\n",
       "\n",
       "    .dataframe tbody tr th {\n",
       "        vertical-align: top;\n",
       "    }\n",
       "\n",
       "    .dataframe thead th {\n",
       "        text-align: right;\n",
       "    }\n",
       "</style>\n",
       "<table border=\"1\" class=\"dataframe\">\n",
       "  <thead>\n",
       "    <tr style=\"text-align: right;\">\n",
       "      <th></th>\n",
       "    </tr>\n",
       "  </thead>\n",
       "  <tbody>\n",
       "  </tbody>\n",
       "</table>\n",
       "</div>"
      ],
      "text/plain": [
       "Empty DataFrame\n",
       "Columns: []\n",
       "Index: []"
      ]
     },
     "metadata": {},
     "output_type": "display_data"
    }
   ],
   "source": [
    "# Define a SPARQL query\n",
    "\n",
    "\n",
    "\n",
    "query = \"\"\"\n",
    "PREFIX cSite: <http://www.owl-ontologies.com/cSite#>\n",
    "PREFIX bot: <http://www.owl-ontologies.com/bot#>\n",
    "PREFIX xsd: <http://www.w3.org/2001/XMLSchema#>\n",
    "\n",
    "SELECT ?storey ?org ?activity ?reason ?resporg WHERE {\n",
    "  ?weekplan cSite:CoversFrom ?date.\n",
    "  ?activity cSite:discussedIn ?weekplan;\n",
    "    cSite:hasOrganization ?org;\n",
    "    cSite:hasZone ?space.\n",
    "  ?space bot:hasStorey ?storey.\n",
    "  ?activity cSite:PlannedVersion ?version;\n",
    "    cSite:ReasonForDelay ?reason;\n",
    "    cSite:responsibleForNonCompletion ?resporg.\n",
    "  FILTER((xsd:integer(?version)) > 1 )\n",
    "  FILTER(?date > ?sixweeksago)\n",
    "  {\n",
    "    SELECT ?storey ?org (COUNT(?activity) AS ?n_orgreplanned) ?sixweeksago WHERE {\n",
    "      ?weekplan cSite:CoversFrom ?date.\n",
    "      ?activity cSite:discussedIn ?weekplan.\n",
    "      ?activity cSite:hasOrganization ?org;\n",
    "        cSite:hasZone ?space.\n",
    "      ?space bot:hasStorey ?storey.\n",
    "      ?activityversion cSite:PlannedVersion ?version.\n",
    "      FILTER(?date > ?sixweeksago)\n",
    "      FILTER((xsd:integer(?version)) > 1 )\n",
    "      {\n",
    "        SELECT ?storey (COUNT(DISTINCT ?activityversion) AS ?n_replanned) ?sixweeksago WHERE {\n",
    "          ?weekplan cSite:CoversFrom ?date.\n",
    "          ?activity cSite:discussedIn ?weekplan.\n",
    "          ?activity  cSite:hasZone ?space.\n",
    "          ?space bot:hasStorey ?storey.\n",
    "          ?activityversion cSite:PlannedVersion ?version.\n",
    "          #BIND((NOW()) - \"P0Y6M28DT0M0S\"^^xsd:yearMonthDuration AS ?sixweeksago)\n",
    "  \t  \t  BIND(\"2022-04-01\"^^xsd:date AS ?sixweeksago)\n",
    "          FILTER(?date > ?sixweeksago)\n",
    "          FILTER((xsd:integer(?version)) > 1 )\n",
    "        }\n",
    "        GROUP BY ?storey ?sixweeksago\n",
    "        ORDER BY DESC (?n_replanned)\n",
    "        LIMIT 4\n",
    "      }\n",
    "    }\n",
    "    GROUP BY ?storey ?sixweeksago ?org\n",
    "    LIMIT 4\n",
    "  }\n",
    "}\n",
    "GROUP BY ?storey ?org ?activity ?reason ?resporg\n",
    "ORDER BY (?activity)\n",
    "\n",
    "\n",
    "\"\"\"\n",
    "\n",
    "\n",
    "results = perform_sparql_query(graph, query)\n",
    "\n",
    "# Display results\n",
    "df = display_query_results(results)\n",
    "print(df)"
   ]
  },
  {
   "cell_type": "code",
   "execution_count": null,
   "id": "d8014bee",
   "metadata": {},
   "outputs": [],
   "source": []
  }
 ],
 "metadata": {
  "kernelspec": {
   "display_name": "Python 3 (ipykernel)",
   "language": "python",
   "name": "python3"
  },
  "language_info": {
   "codemirror_mode": {
    "name": "ipython",
    "version": 3
   },
   "file_extension": ".py",
   "mimetype": "text/x-python",
   "name": "python",
   "nbconvert_exporter": "python",
   "pygments_lexer": "ipython3",
   "version": "3.10.11"
  }
 },
 "nbformat": 4,
 "nbformat_minor": 5
}
